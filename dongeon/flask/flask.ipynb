{
 "cells": [
  {
   "cell_type": "code",
   "execution_count": 6,
   "metadata": {},
   "outputs": [
    {
     "name": "stdout",
     "output_type": "stream",
     "text": [
      " * Serving Flask app \"__main__\" (lazy loading)\n",
      " * Environment: production\n",
      "\u001b[31m   WARNING: This is a development server. Do not use it in a production deployment.\u001b[0m\n",
      "\u001b[2m   Use a production WSGI server instead.\u001b[0m\n",
      " * Debug mode: on\n"
     ]
    },
    {
     "name": "stderr",
     "output_type": "stream",
     "text": [
      " * Restarting with watchdog (windowsapi)\n"
     ]
    },
    {
     "ename": "SystemExit",
     "evalue": "1",
     "output_type": "error",
     "traceback": [
      "An exception has occurred, use %tb to see the full traceback.\n",
      "\u001b[1;31mSystemExit\u001b[0m\u001b[1;31m:\u001b[0m 1\n"
     ]
    }
   ],
   "source": [
    "from flask import Flask\n",
    "\n",
    "app = Flask(__name__)\n",
    "\n",
    "@app.route('/')\n",
    "# @app.route('/home')\n",
    "def home():\n",
    "    return 'Hello, World!'\n",
    "\n",
    "# @app.route('/user')\n",
    "# def user():\n",
    "#     return 'Hello, User!'\n",
    "\n",
    "if __name__ == '__main__':\n",
    "    app.run(debug=True)"
   ]
  },
  {
   "cell_type": "code",
   "execution_count": 1,
   "metadata": {},
   "outputs": [
    {
     "name": "stdout",
     "output_type": "stream",
     "text": [
      "Collecting flask_cors\n",
      "  Downloading Flask_Cors-3.0.10-py2.py3-none-any.whl (14 kB)\n",
      "Requirement already satisfied: Six in c:\\users\\user\\anaconda3\\envs\\ml\\lib\\site-packages (from flask_cors) (1.16.0)\n",
      "Requirement already satisfied: Flask>=0.9 in c:\\users\\user\\anaconda3\\envs\\ml\\lib\\site-packages (from flask_cors) (2.0.3)\n",
      "Requirement already satisfied: click>=7.1.2 in c:\\users\\user\\anaconda3\\envs\\ml\\lib\\site-packages (from Flask>=0.9->flask_cors) (8.0.4)\n",
      "Requirement already satisfied: itsdangerous>=2.0 in c:\\users\\user\\anaconda3\\envs\\ml\\lib\\site-packages (from Flask>=0.9->flask_cors) (2.0.1)\n",
      "Requirement already satisfied: Werkzeug>=2.0 in c:\\users\\user\\anaconda3\\envs\\ml\\lib\\site-packages (from Flask>=0.9->flask_cors) (2.0.3)\n",
      "Requirement already satisfied: Jinja2>=3.0 in c:\\users\\user\\anaconda3\\envs\\ml\\lib\\site-packages (from Flask>=0.9->flask_cors) (3.0.3)\n",
      "Requirement already satisfied: importlib-metadata in c:\\users\\user\\anaconda3\\envs\\ml\\lib\\site-packages (from click>=7.1.2->Flask>=0.9->flask_cors) (4.8.3)\n",
      "Requirement already satisfied: colorama in c:\\users\\user\\anaconda3\\envs\\ml\\lib\\site-packages (from click>=7.1.2->Flask>=0.9->flask_cors) (0.4.4)\n",
      "Requirement already satisfied: MarkupSafe>=2.0 in c:\\users\\user\\anaconda3\\envs\\ml\\lib\\site-packages (from Jinja2>=3.0->Flask>=0.9->flask_cors) (2.0.1)\n",
      "Requirement already satisfied: dataclasses in c:\\users\\user\\anaconda3\\envs\\ml\\lib\\site-packages (from Werkzeug>=2.0->Flask>=0.9->flask_cors) (0.8)\n",
      "Requirement already satisfied: typing-extensions>=3.6.4 in c:\\users\\user\\anaconda3\\envs\\ml\\lib\\site-packages (from importlib-metadata->click>=7.1.2->Flask>=0.9->flask_cors) (4.1.1)\n",
      "Requirement already satisfied: zipp>=0.5 in c:\\users\\user\\anaconda3\\envs\\ml\\lib\\site-packages (from importlib-metadata->click>=7.1.2->Flask>=0.9->flask_cors) (3.6.0)\n",
      "Installing collected packages: flask-cors\n",
      "Successfully installed flask-cors-3.0.10\n"
     ]
    }
   ],
   "source": []
  },
  {
   "cell_type": "code",
   "execution_count": null,
   "metadata": {},
   "outputs": [],
   "source": []
  }
 ],
 "metadata": {
  "interpreter": {
   "hash": "7a3797ff0740a9cbadd9c600bf21f2653a6a89c7ec81ce67cdd9a6091edd8408"
  },
  "kernelspec": {
   "display_name": "Python 3.6.13 ('ml')",
   "language": "python",
   "name": "python3"
  },
  "language_info": {
   "codemirror_mode": {
    "name": "ipython",
    "version": 3
   },
   "file_extension": ".py",
   "mimetype": "text/x-python",
   "name": "python",
   "nbconvert_exporter": "python",
   "pygments_lexer": "ipython3",
   "version": "3.6.13"
  },
  "orig_nbformat": 4
 },
 "nbformat": 4,
 "nbformat_minor": 2
}
